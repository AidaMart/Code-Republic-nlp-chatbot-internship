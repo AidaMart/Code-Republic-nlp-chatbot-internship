{
 "cells": [
  {
   "cell_type": "markdown",
   "metadata": {},
   "source": [
    "# Stop Words\n",
    "Words like \"a\" and \"the\" appear so frequently that they don't require tagging as thoroughly as nouns, verbs and modifiers. We call these *stop words*, and they can be filtered from the text to be processed. spaCy holds a built-in list of some 305 English stop words."
   ]
  },
  {
   "cell_type": "code",
   "execution_count": 1,
   "metadata": {},
   "outputs": [],
   "source": [
    "# Perform standard imports:\n",
    "import spacy\n",
    "nlp = spacy.load('en_core_web_sm')"
   ]
  },
  {
   "cell_type": "code",
   "execution_count": 2,
   "metadata": {},
   "outputs": [
    {
     "name": "stdout",
     "output_type": "stream",
     "text": [
      "{'though', 'everywhere', 'thereby', 'whom', 'below', 'there', 'please', 'anyway', 'everyone', 'own', '’ve', 'almost', \"'re\", 'these', 'bottom', 'is', 'however', 'it', 're', 'used', 'thus', 'been', 'every', 'behind', 'here', 'upon', 'sometime', 'done', 'them', 'elsewhere', 'has', 'does', 'each', 'he', 'next', 'of', 'once', 'were', 'three', 'those', 'somewhere', 'when', 'another', 'often', 'noone', 'least', 'unless', 'may', 'amount', 'either', 'before', 'any', 'at', 'whither', 'take', 'i', 'side', 'namely', 'wherein', '’m', 'nevertheless', 'became', '’d', 'towards', 'whereupon', 'herself', 'serious', 'such', \"'s\", 'just', 'so', 'yourselves', 'using', 'toward', 'all', 'besides', 'somehow', 'sometimes', 'therein', 'anywhere', 'being', 'while', 'whoever', 'latterly', 'the', 'cannot', 'how', 'ours', 'keep', 'as', 'already', 'therefore', 'because', 'above', 'other', 'about', 'whereafter', 'and', 'nothing', 'yours', 'nine', 'by', 'much', 'very', 'have', 'hence', 'n‘t', 'front', 'throughout', 'she', 'under', 'twenty', 'anyone', 'us', 'call', 'thence', \"'ll\", 'six', 'must', 'off', 'even', 'empty', 'without', '‘m', 'via', 'latter', 'among', 'something', 'mine', 'others', 'together', 'can', 'down', 'nor', 'hereupon', 'moreover', 'should', 'perhaps', '‘ll', 'anyhow', 'their', 'five', 'we', 'most', 'get', 'then', '’ll', 'mostly', 'to', '’s', 'per', 'which', 'myself', 'across', 'give', 'made', 'within', 'than', '‘re', 'make', 'both', 'go', 'they', 'hers', 'whereby', 'someone', 'me', 'amongst', 'yet', 'still', 'hereby', 'show', 'through', 'alone', 'yourself', 'although', 'beyond', 'else', 'what', 'no', 'thereafter', 'ourselves', 'could', 'some', 'from', 'him', 'third', 'thereupon', 'back', 'seeming', 'since', 'you', 'first', 'meanwhile', 'only', 'itself', 'will', 'more', 'himself', 'same', 'move', 'too', \"n't\", 'where', 'eight', 'ten', 'one', 'on', 'forty', 'did', 'quite', 'her', 'his', 'ca', 'regarding', 'beforehand', 'or', 'my', 'never', 'would', 'do', 'over', 'fifty', 'always', 'between', 'doing', 'last', 'n’t', \"'d\", 'a', 'be', 'had', 'beside', 'seems', 'full', '‘d', 'nobody', 'might', 'twelve', 'who', 'two', 'now', 'herein', 'whole', 'several', 'whether', 'seem', 'neither', 'with', 'thru', 'part', 'due', 'for', 'again', 'further', 'except', 'are', 'various', 'during', 'until', 'your', 'whatever', 'afterwards', 'after', 'none', \"'ve\", 'former', 'am', 'fifteen', 'rather', 'otherwise', 'indeed', '‘ve', 'against', 'everything', 'few', 'this', 'ever', 'say', 'that', 'but', 'put', 'was', 'into', 'formerly', 'along', 'becomes', 'eleven', 'top', 'seemed', 'out', 'become', 'less', 'around', 'becoming', 'well', 'sixty', 'not', 'see', 'its', 'nowhere', 'enough', 'whence', 'whose', '‘s', 'themselves', 'an', 'really', \"'m\", 'wherever', 'hereafter', 'whenever', 'also', 'in', 'whereas', '’re', 'up', 'name', 'onto', 'many', 'hundred', 'why', 'four', 'anything', 'our', 'if'}\n"
     ]
    }
   ],
   "source": [
    "# Print the set of spaCy's default stop words (remember that sets are unordered):\n",
    "print(nlp.Defaults.stop_words)"
   ]
  },
  {
   "cell_type": "code",
   "execution_count": 4,
   "metadata": {},
   "outputs": [
    {
     "data": {
      "text/plain": [
       "326"
      ]
     },
     "execution_count": 4,
     "metadata": {},
     "output_type": "execute_result"
    }
   ],
   "source": [
    "len(nlp.Defaults.stop_words)"
   ]
  },
  {
   "cell_type": "markdown",
   "metadata": {},
   "source": [
    "## To see if a word is a stop word"
   ]
  },
  {
   "cell_type": "code",
   "execution_count": 5,
   "metadata": {},
   "outputs": [
    {
     "data": {
      "text/plain": [
       "True"
      ]
     },
     "execution_count": 5,
     "metadata": {},
     "output_type": "execute_result"
    }
   ],
   "source": [
    "nlp.vocab['myself'].is_stop"
   ]
  },
  {
   "cell_type": "code",
   "execution_count": 6,
   "metadata": {},
   "outputs": [
    {
     "data": {
      "text/plain": [
       "False"
      ]
     },
     "execution_count": 6,
     "metadata": {},
     "output_type": "execute_result"
    }
   ],
   "source": [
    "nlp.vocab['mystery'].is_stop"
   ]
  },
  {
   "cell_type": "markdown",
   "metadata": {},
   "source": [
    "## To add a stop word\n",
    "There may be times when you wish to add a stop word to the default set. Perhaps you decide that `'btw'` (common shorthand for \"by the way\") should be considered a stop word."
   ]
  },
  {
   "cell_type": "code",
   "execution_count": 7,
   "metadata": {},
   "outputs": [],
   "source": [
    "# Add the word to the set of stop words. Use lowercase!\n",
    "nlp.Defaults.stop_words.add('btw')\n",
    "\n",
    "# Set the stop_word tag on the lexeme\n",
    "nlp.vocab['btw'].is_stop = True"
   ]
  },
  {
   "cell_type": "code",
   "execution_count": 8,
   "metadata": {},
   "outputs": [
    {
     "data": {
      "text/plain": [
       "327"
      ]
     },
     "execution_count": 8,
     "metadata": {},
     "output_type": "execute_result"
    }
   ],
   "source": [
    "len(nlp.Defaults.stop_words)"
   ]
  },
  {
   "cell_type": "code",
   "execution_count": 8,
   "metadata": {},
   "outputs": [
    {
     "data": {
      "text/plain": [
       "True"
      ]
     },
     "execution_count": 8,
     "metadata": {},
     "output_type": "execute_result"
    }
   ],
   "source": [
    "nlp.vocab['btw'].is_stop"
   ]
  },
  {
   "cell_type": "markdown",
   "metadata": {},
   "source": [
    "<font color=green>When adding stop words, always use lowercase. Lexemes are converted to lowercase before being added to **vocab**.</font>"
   ]
  },
  {
   "cell_type": "markdown",
   "metadata": {},
   "source": [
    "## To remove a stop word\n",
    "Alternatively, you may decide that `'beyond'` should not be considered a stop word."
   ]
  },
  {
   "cell_type": "code",
   "execution_count": 9,
   "metadata": {},
   "outputs": [],
   "source": [
    "# Remove the word from the set of stop words\n",
    "nlp.Defaults.stop_words.remove('beyond')\n",
    "\n",
    "# Remove the stop_word tag from the lexeme\n",
    "nlp.vocab['beyond'].is_stop = False"
   ]
  },
  {
   "cell_type": "code",
   "execution_count": 10,
   "metadata": {},
   "outputs": [
    {
     "data": {
      "text/plain": [
       "305"
      ]
     },
     "execution_count": 10,
     "metadata": {},
     "output_type": "execute_result"
    }
   ],
   "source": [
    "len(nlp.Defaults.stop_words)"
   ]
  },
  {
   "cell_type": "code",
   "execution_count": 11,
   "metadata": {},
   "outputs": [
    {
     "data": {
      "text/plain": [
       "False"
      ]
     },
     "execution_count": 11,
     "metadata": {},
     "output_type": "execute_result"
    }
   ],
   "source": [
    "nlp.vocab['beyond'].is_stop"
   ]
  },
  {
   "cell_type": "markdown",
   "metadata": {},
   "source": [
    "Great! Now you should be able to access spaCy's default set of stop words, and add or remove stop words as needed.\n"
   ]
  }
 ],
 "metadata": {
  "kernelspec": {
   "display_name": "Python 3 (ipykernel)",
   "language": "python",
   "name": "python3"
  },
  "language_info": {
   "codemirror_mode": {
    "name": "ipython",
    "version": 3
   },
   "file_extension": ".py",
   "mimetype": "text/x-python",
   "name": "python",
   "nbconvert_exporter": "python",
   "pygments_lexer": "ipython3",
   "version": "3.9.12"
  }
 },
 "nbformat": 4,
 "nbformat_minor": 2
}
