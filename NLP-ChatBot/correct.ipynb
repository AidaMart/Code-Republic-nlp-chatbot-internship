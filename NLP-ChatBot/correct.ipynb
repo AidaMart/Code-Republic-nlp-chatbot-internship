{
 "cells": [
  {
   "cell_type": "markdown",
   "id": "d7511c57",
   "metadata": {},
   "source": [
    "Autocorrection methods"
   ]
  },
  {
   "cell_type": "code",
   "execution_count": 4,
   "id": "2993b0f8",
   "metadata": {},
   "outputs": [
    {
     "name": "stdout",
     "output_type": "stream",
     "text": [
      "i like banana and apply\n"
     ]
    }
   ],
   "source": [
    "from spellchecker import SpellChecker\n",
    "\n",
    "# Load the vocabulary from the file\n",
    "def load_vocabulary(vocab_path):\n",
    "    with open(vocab_path, 'r') as file:\n",
    "        return [word.strip() for word in file]\n",
    "\n",
    "# Initialize the spell checker with the vocabulary\n",
    "spell = SpellChecker()\n",
    "vocab = load_vocabulary('/Users/aidamartirosyan/Documents/NLP Internship/NLP-ChatBot/vocab.txt')\n",
    "\n",
    "# This function corrects a word using the spell checker\n",
    "def correct_word(word):\n",
    "    return spell.correction(word)\n",
    "\n",
    "# This function corrects the words in a sentence\n",
    "def correct_sentence(sentence):\n",
    "    corrected_sentence = []\n",
    "    words = sentence.lower().split()\n",
    "    for word in words:\n",
    "        corrected_word = correct_word(word)\n",
    "        corrected_sentence.append(corrected_word)\n",
    "    return ' '.join(corrected_sentence)\n",
    "\n",
    "# Test the code\n",
    "sentence = \"I like bannana and appl.\"\n",
    "corrected_sentence = correct_sentence(sentence)\n",
    "print(corrected_sentence)"
   ]
  },
  {
   "cell_type": "code",
   "execution_count": 20,
   "id": "183fd37b",
   "metadata": {},
   "outputs": [
    {
     "name": "stdout",
     "output_type": "stream",
     "text": [
      "delete\n",
      "{'denote', 'demote', 'devote', 'delete'}\n"
     ]
    }
   ],
   "source": [
    "from spellchecker import SpellChecker\n",
    " \n",
    "spell = SpellChecker()\n",
    " \n",
    "# find those words that may be misspelled\n",
    "misspelled = spell.unknown([\"delote\"])\n",
    " \n",
    "for word in misspelled:\n",
    "    # Get the one `most likely` answer\n",
    "    print(spell.correction(word))\n",
    " \n",
    "    # Get a list of `likely` options\n",
    "    print(spell.candidates(word))"
   ]
  },
  {
   "cell_type": "code",
   "execution_count": 19,
   "id": "3a423858",
   "metadata": {},
   "outputs": [
    {
     "name": "stdout",
     "output_type": "stream",
     "text": [
      "devote\n"
     ]
    }
   ],
   "source": [
    "from textblob import TextBlob\n",
    "a = 'delote'\n",
    "b = TextBlob(a)\n",
    "print(b.correct())"
   ]
  },
  {
   "cell_type": "code",
   "execution_count": 23,
   "id": "0246dcd8",
   "metadata": {},
   "outputs": [
    {
     "data": {
      "text/plain": [
       "\"I'm not sleepy and there is no place I'm going to.\""
      ]
     },
     "execution_count": 23,
     "metadata": {},
     "output_type": "execute_result"
    }
   ],
   "source": [
    "from autocorrect import Speller\n",
    "spell = Speller()\n",
    "spell(\"I'm not sleapy and tehre is no place I'm giong to.\")"
   ]
  }
 ],
 "metadata": {
  "kernelspec": {
   "display_name": "Python 3 (ipykernel)",
   "language": "python",
   "name": "python3"
  },
  "language_info": {
   "codemirror_mode": {
    "name": "ipython",
    "version": 3
   },
   "file_extension": ".py",
   "mimetype": "text/x-python",
   "name": "python",
   "nbconvert_exporter": "python",
   "pygments_lexer": "ipython3",
   "version": "3.10.9"
  }
 },
 "nbformat": 4,
 "nbformat_minor": 5
}
